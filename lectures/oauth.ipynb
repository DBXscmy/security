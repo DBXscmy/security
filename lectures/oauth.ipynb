{
 "cells": [
  {
   "cell_type": "code",
   "execution_count": null,
   "metadata": {},
   "outputs": [],
   "source": [
    "import requests\n",
    "\n"
   ]
  },
  {
   "cell_type": "markdown",
   "metadata": {},
   "source": [
    "Web应用程序流程\n",
    "以下步骤概述了如何使用默认授权授权类型流来获取访问令牌并获取受保护资源。在此示例中，提供程序是Google，受保护资源是用户的配置文件。\n",
    "\n",
    "1.手动从OAuth提供商处获取凭据。至少你需要一个client_id但很可能也需要一个client_secret。在此过程中，您可能还需要注册应用程序使用的默认重定向URI。将这些内容保存在Python脚本中：\n",
    "\n",
    "https://api.weibo.com/oauth2/authorize?forcelogin=false&state=FiTKYisPzOpmCtS8N0yPIibIuI07A00J&redirect_uri=http://www.xuetangx.com/complete/weibo/&response_type=code&client_id=2021069109\n",
    "\n",
    "=2021069109"
   ]
  },
  {
   "cell_type": "code",
   "execution_count": null,
   "metadata": {},
   "outputs": [],
   "source": [
    "import requests\n",
    "#client_id = '13391566939'\n",
    "client_secret = 'asdfghjkl12345'\n",
    "redirect_uri = 'http://www.xuetangx.com/complete/weibo/'\n",
    "response_type='code'\n",
    "client_id='2021069109'"
   ]
  },
  {
   "cell_type": "markdown",
   "metadata": {},
   "source": [
    "2.通过重定向进行用户授权。首先，我们将从提供商提供的基本URL和先前获得的凭证创建授权URL。此外，大多数提供商会要求您要求访问某个范围。在此示例中，我们将要求Google访问用户的电子邮件地址和用户个人资料。"
   ]
  },
  {
   "cell_type": "code",
   "execution_count": null,
   "metadata": {},
   "outputs": [],
   "source": [
    "# Note that these are Google specific scopes\n",
    "scope = ['weibo.com',\n",
    "             'https://www.googleapis.com/auth/userinfo.profile']\n",
    "oauth = OAuth2Session(client_id, redirect_uri=redirect_uri,\n",
    "                          scope=scope)\n",
    "authorization_url, state = oauth.authorization_url(\n",
    "        'https://accounts.google.com/o/oauth2/auth',\n",
    "        # access_type and prompt are Google specific extra\n",
    "        # parameters.\n",
    "        access_type=\"offline\", prompt=\"select_account\")\n",
    "\n",
    "print('Please go to %s and authorize access.' % authorization_url)\n",
    "authorization_response = raw_input('Enter the full callback URL')"
   ]
  },
  {
   "cell_type": "code",
   "execution_count": null,
   "metadata": {},
   "outputs": [],
   "source": [
    "3.使用在用户授权期间获取的授权代码从提供程序获取访问令牌。"
   ]
  },
  {
   "cell_type": "code",
   "execution_count": null,
   "metadata": {},
   "outputs": [],
   "source": [
    "token = oauth.fetch_token(\n",
    "        'https://accounts.google.com/o/oauth2/token',\n",
    "        authorization_response=authorization_response,\n",
    "        # Google specific extra parameter used for client\n",
    "        # authentication\n",
    "        client_secret=client_secret)"
   ]
  },
  {
   "cell_type": "markdown",
   "metadata": {},
   "source": [
    "4. 使用刚刚获得的访问令牌访问受保护的资源。例如，获取用户个人资料信息。\n"
   ]
  },
  {
   "cell_type": "code",
   "execution_count": null,
   "metadata": {},
   "outputs": [],
   "source": [
    "r = oauth.get('https://www.googleapis.com/oauth2/v1/userinfo')\n"
   ]
  }
 ],
 "metadata": {
  "kernelspec": {
   "display_name": "Python 3",
   "language": "python",
   "name": "python3"
  },
  "language_info": {
   "codemirror_mode": {
    "name": "ipython",
    "version": 3
   },
   "file_extension": ".py",
   "mimetype": "text/x-python",
   "name": "python",
   "nbconvert_exporter": "python",
   "pygments_lexer": "ipython3",
   "version": "3.6.5"
  }
 },
 "nbformat": 4,
 "nbformat_minor": 2
}
